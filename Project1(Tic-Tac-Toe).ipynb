{
 "cells": [
  {
   "cell_type": "code",
   "execution_count": 1,
   "id": "7e5aed0f-f843-480d-9129-8429f8be9350",
   "metadata": {},
   "outputs": [],
   "source": [
    "from IPython.display import clear_output\n",
    "import random"
   ]
  },
  {
   "cell_type": "code",
   "execution_count": 2,
   "id": "63147d55-1ed1-4bdf-a197-ed2513cb7986",
   "metadata": {},
   "outputs": [],
   "source": [
    "def display_board(board):\n",
    "    clear_output()\n",
    "    print(board[1]+' | '+board[2]+' | '+board[3])\n",
    "    print('---------')\n",
    "    print(board[4]+' | '+board[5]+' | '+board[6])\n",
    "    print('---------')\n",
    "    print(board[7]+' | '+board[8]+' | '+board[9])"
   ]
  },
  {
   "cell_type": "code",
   "execution_count": 3,
   "id": "ab490641-00be-4d1c-bfcf-ed1fc1701162",
   "metadata": {},
   "outputs": [],
   "source": [
    "def player_input():\n",
    "    \n",
    "    input1 = 'Word'\n",
    "    while input1 != 'X' or input1 != 'O':\n",
    "        input1 = input(\"Player 1 chose 'X' or 'O' : \").upper()\n",
    "        if input1 == 'X':\n",
    "            return ('X', 'O')\n",
    "        else:\n",
    "            return ('O', 'X')"
   ]
  },
  {
   "cell_type": "code",
   "execution_count": 4,
   "id": "bfa2a754-f157-4c7c-baf6-8a939c145596",
   "metadata": {},
   "outputs": [],
   "source": [
    "def place_marker(board, marker, position):\n",
    "    board[position] = marker"
   ]
  },
  {
   "cell_type": "code",
   "execution_count": 5,
   "id": "09ddd442-94c0-49ff-942c-521d622f26b5",
   "metadata": {},
   "outputs": [],
   "source": [
    "def win_check(board, mark):\n",
    "    return ((board[1] == mark and board[2] == mark and board[3] == mark) or\n",
    "            (board[4] == mark and board[5] == mark and board[6] == mark) or\n",
    "            (board[7] == mark and board[8] == mark and board[9] == mark) or\n",
    "            (board[7] == mark and board[4] == mark and board[1] == mark) or\n",
    "            (board[8] == mark and board[5] == mark and board[2] == mark) or\n",
    "            (board[9] == mark and board[6] == mark and board[3] == mark) or\n",
    "            (board[7] == mark and board[5] == mark and board[3] == mark) or\n",
    "            (board[9] == mark and board[5] == mark and board[1] == mark))"
   ]
  },
  {
   "cell_type": "code",
   "execution_count": 31,
   "id": "aa5d4be8-eb6c-43fd-bd74-6589e1f1d6d2",
   "metadata": {},
   "outputs": [],
   "source": [
    "def replay():\n",
    "    choice = input(\"Wanna play again? Type 'Y' or 'N' \").upper()\n",
    "    if choice == 'Y':\n",
    "        return True\n",
    "    else:\n",
    "        return False"
   ]
  },
  {
   "cell_type": "code",
   "execution_count": 7,
   "id": "e764fdc5-c905-42f7-adfe-04f3e23f5c33",
   "metadata": {},
   "outputs": [],
   "source": [
    "def space_check(board, position):\n",
    "    if board[position] == ' ':\n",
    "        return True\n",
    "    else:\n",
    "        return False  "
   ]
  },
  {
   "cell_type": "code",
   "execution_count": 8,
   "id": "1f26ef37-1633-4275-96db-d5156f769afd",
   "metadata": {},
   "outputs": [],
   "source": [
    "def full_board_check(board):\n",
    "    c = 1\n",
    "    for i in board:\n",
    "        if space_check(board, c) == True:\n",
    "            return False\n",
    "        else:\n",
    "            c = c+1\n",
    "            if c == 10:\n",
    "                return True"
   ]
  },
  {
   "cell_type": "code",
   "execution_count": 9,
   "id": "f3be7144-5d28-4295-8136-66a5783ab975",
   "metadata": {},
   "outputs": [],
   "source": [
    "def player_choice(board):\n",
    "    pos = int(input('Insert position: '))\n",
    "    if space_check(board, pos):\n",
    "        return pos"
   ]
  },
  {
   "cell_type": "code",
   "execution_count": 10,
   "id": "97faa6dc-bea6-465d-acc1-dcefc8948be5",
   "metadata": {},
   "outputs": [],
   "source": [
    "def choose_first():\n",
    "    flip = random.randint(0,1)\n",
    "    if flip == 0:\n",
    "        return 'Player 1'\n",
    "    else:\n",
    "        return 'Player 2'"
   ]
  },
  {
   "cell_type": "code",
   "execution_count": 29,
   "id": "aed4bb1f-ff6e-47b9-9daf-7e8ed6a3a0eb",
   "metadata": {},
   "outputs": [],
   "source": [
    "def start_game():\n",
    "    print()\n",
    "    print('Welcome to Tic Tac Toe!')\n",
    "    while True:\n",
    "        board = ['#', ' ', ' ', ' ', ' ', ' ', ' ', ' ', ' ', ' ']\n",
    "        player1_marker, player2_marker = player_input()\n",
    "        turn = choose_first()\n",
    "        print(turn + ' will go first')\n",
    "        play_game = input('Ready to play? Y or N? ').upper()\n",
    "        if play_game == 'Y':\n",
    "            game_on = True\n",
    "        else:\n",
    "            game_on = False\n",
    "        while game_on:\n",
    "            if turn == 'Player 1':\n",
    "                display_board(board)\n",
    "                position = player_choice(board)\n",
    "                place_marker(board, player1_marker, position)\n",
    "                if win_check(board, player1_marker):\n",
    "                    display_board(board)\n",
    "                    print('PLAYER 1 HAS WON!!!')\n",
    "                    game_on= False\n",
    "                else:\n",
    "                    if full_board_check(board):\n",
    "                        display_board(board)\n",
    "                        print('TIE GAME!')\n",
    "                        game_on = False\n",
    "                    else:\n",
    "                        turn = 'Player 2'\n",
    "            else: \n",
    "                display_board(board)\n",
    "                position = player_choice(board)\n",
    "                place_marker(board, player2_marker, position)\n",
    "                if win_check(board, player2_marker):\n",
    "                    display_board(board)\n",
    "                    print('PLAYER 2 HAS WON!!!')\n",
    "                    game_on= False\n",
    "                else:\n",
    "                    if full_board_check(board):\n",
    "                        display_board(board)\n",
    "                        print('TIE GAME!')\n",
    "                        game_on = False\n",
    "                    else:\n",
    "                        turn = 'Player 1'\n",
    "        if not replay():\n",
    "           break"
   ]
  },
  {
   "cell_type": "code",
   "execution_count": null,
   "id": "a9875e0a-00d5-4821-8813-c8d52d2796f3",
   "metadata": {},
   "outputs": [],
   "source": []
  }
 ],
 "metadata": {
  "kernelspec": {
   "display_name": "Python 3 (ipykernel)",
   "language": "python",
   "name": "python3"
  },
  "language_info": {
   "codemirror_mode": {
    "name": "ipython",
    "version": 3
   },
   "file_extension": ".py",
   "mimetype": "text/x-python",
   "name": "python",
   "nbconvert_exporter": "python",
   "pygments_lexer": "ipython3",
   "version": "3.12.4"
  }
 },
 "nbformat": 4,
 "nbformat_minor": 5
}
